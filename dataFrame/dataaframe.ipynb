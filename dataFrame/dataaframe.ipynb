{
 "cells": [
  {
   "cell_type": "code",
   "execution_count": 61,
   "metadata": {},
   "outputs": [],
   "source": [
    "import pandas as pd\n",
    "data= pd.read_csv('E:\\Data_science\\dataFrame\\math_score.csv.csv')"
   ]
  },
  {
   "cell_type": "code",
   "execution_count": 62,
   "metadata": {},
   "outputs": [
    {
     "name": "stdout",
     "output_type": "stream",
     "text": [
      "   Time_Delay_in_Minutes  LSD_ppm  Avg_Math_Test_Score\n",
      "0                      5     1.17                78.93\n",
      "1                     15     2.97                58.20\n",
      "2                     30     3.26                67.47\n",
      "3                     60     4.69                37.47\n",
      "4                    120     5.83                45.65\n",
      "5                    240     6.00                32.92\n",
      "6                    480     6.41                29.97\n"
     ]
    }
   ],
   "source": [
    "print(data)"
   ]
  },
  {
   "cell_type": "code",
   "execution_count": 63,
   "metadata": {},
   "outputs": [
    {
     "data": {
      "text/plain": [
       "pandas.core.frame.DataFrame"
      ]
     },
     "execution_count": 63,
     "metadata": {},
     "output_type": "execute_result"
    }
   ],
   "source": [
    "type(data)"
   ]
  },
  {
   "cell_type": "code",
   "execution_count": 64,
   "metadata": {},
   "outputs": [
    {
     "data": {
      "text/plain": [
       "0    78.93\n",
       "1    58.20\n",
       "2    67.47\n",
       "3    37.47\n",
       "4    45.65\n",
       "5    32.92\n",
       "6    29.97\n",
       "Name: Avg_Math_Test_Score, dtype: float64"
      ]
     },
     "execution_count": 64,
     "metadata": {},
     "output_type": "execute_result"
    }
   ],
   "source": [
    "data['Avg_Math_Test_Score']"
   ]
  },
  {
   "cell_type": "code",
   "execution_count": 65,
   "metadata": {},
   "outputs": [
    {
     "name": "stdout",
     "output_type": "stream",
     "text": [
      "0      5\n",
      "1     15\n",
      "2     30\n",
      "3     60\n",
      "4    120\n",
      "5    240\n",
      "6    480\n",
      "Name: Time_Delay_in_Minutes, dtype: int64\n"
     ]
    }
   ],
   "source": [
    "time= data['Time_Delay_in_Minutes']\n",
    "print(time)"
   ]
  },
  {
   "cell_type": "code",
   "execution_count": 66,
   "metadata": {},
   "outputs": [],
   "source": [
    "data[\"Total\"]=100"
   ]
  },
  {
   "cell_type": "code",
   "execution_count": 67,
   "metadata": {},
   "outputs": [
    {
     "name": "stdout",
     "output_type": "stream",
     "text": [
      "   Time_Delay_in_Minutes  LSD_ppm  Avg_Math_Test_Score  Total\n",
      "0                      5     1.17                78.93    100\n",
      "1                     15     2.97                58.20    100\n",
      "2                     30     3.26                67.47    100\n",
      "3                     60     4.69                37.47    100\n",
      "4                    120     5.83                45.65    100\n",
      "5                    240     6.00                32.92    100\n",
      "6                    480     6.41                29.97    100\n"
     ]
    }
   ],
   "source": [
    "print(data)"
   ]
  },
  {
   "cell_type": "code",
   "execution_count": 68,
   "metadata": {},
   "outputs": [],
   "source": [
    "data[\"High_Score\"] = data[\"Avg_Math_Test_Score\"] + data[\"Total\"]\n",
    "data[\"LSD_ppm\"] = data[\"LSD_ppm\"] ** 2  # raise the power by 2\n"
   ]
  },
  {
   "cell_type": "code",
   "execution_count": 69,
   "metadata": {},
   "outputs": [
    {
     "name": "stdout",
     "output_type": "stream",
     "text": [
      "   Time_Delay_in_Minutes  LSD_ppm  Avg_Math_Test_Score  High_Score\n",
      "0                      5   1.3689                78.93      178.93\n",
      "1                     15   8.8209                58.20      158.20\n",
      "2                     30  10.6276                67.47      167.47\n",
      "3                     60  21.9961                37.47      137.47\n",
      "4                    120  33.9889                45.65      145.65\n",
      "5                    240  36.0000                32.92      132.92\n",
      "6                    480  41.0881                29.97      129.97\n"
     ]
    }
   ],
   "source": [
    "del data['Total']\n",
    "print(data)"
   ]
  },
  {
   "cell_type": "code",
   "execution_count": 70,
   "metadata": {},
   "outputs": [
    {
     "name": "stdout",
     "output_type": "stream",
     "text": [
      "   LSD_ppm  High_Score\n",
      "0   1.3689      178.93\n",
      "1   8.8209      158.20\n",
      "2  10.6276      167.47\n",
      "3  21.9961      137.47\n",
      "4  33.9889      145.65\n",
      "5  36.0000      132.92\n",
      "6  41.0881      129.97\n"
     ]
    }
   ],
   "source": [
    "columnList=data[['LSD_ppm',\"High_Score\"]]\n",
    "print(columnList)"
   ]
  }
 ],
 "metadata": {
  "kernelspec": {
   "display_name": "mlcc",
   "language": "python",
   "name": "python3"
  },
  "language_info": {
   "codemirror_mode": {
    "name": "ipython",
    "version": 3
   },
   "file_extension": ".py",
   "mimetype": "text/x-python",
   "name": "python",
   "nbconvert_exporter": "python",
   "pygments_lexer": "ipython3",
   "version": "3.9.15 (main, Nov 24 2022, 14:39:17) [MSC v.1916 64 bit (AMD64)]"
  },
  "orig_nbformat": 4,
  "vscode": {
   "interpreter": {
    "hash": "f6c73129ccda2f5e3d9979d5c3db00dc5c5e8a358dbd3c69d29523b597742988"
   }
  }
 },
 "nbformat": 4,
 "nbformat_minor": 2
}
