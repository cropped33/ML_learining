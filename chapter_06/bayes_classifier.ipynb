{
 "cells": [
  {
   "attachments": {},
   "cell_type": "markdown",
   "metadata": {},
   "source": [
    "Imports"
   ]
  },
  {
   "cell_type": "code",
   "execution_count": 121,
   "metadata": {},
   "outputs": [],
   "source": [
    "import sys\n",
    "sys.getfilesystemencoding()\n",
    "\n",
    "from os import walk\n",
    "from os.path import join\n",
    "\n",
    "import pandas as pd"
   ]
  },
  {
   "attachments": {},
   "cell_type": "markdown",
   "metadata": {},
   "source": [
    "#### Constants\n"
   ]
  },
  {
   "cell_type": "code",
   "execution_count": 122,
   "metadata": {},
   "outputs": [],
   "source": [
    "example_1= 'example_1'\n",
    "spam_path = 'bypass\\spam'"
   ]
  },
  {
   "attachments": {},
   "cell_type": "markdown",
   "metadata": {},
   "source": [
    "### Reading Files"
   ]
  },
  {
   "cell_type": "code",
   "execution_count": 123,
   "metadata": {},
   "outputs": [
    {
     "name": "stdout",
     "output_type": "stream",
     "text": [
      "Greetings!\n",
      "\n",
      "\n",
      "\n",
      "You are receiving this letter because you have expressed an interest in \n",
      "\n",
      "receiving information about online business opportunities. If this is \n",
      "\n",
      "erroneous then please accept my most sincere apology. This is a one-time \n",
      "\n",
      "mailing, so no removal is necessary.\n",
      "\n",
      "\n",
      "\n",
      "If you've been burned, betrayed, and back-stabbed by multi-level marketing, \n",
      "\n",
      "MLM, then please read this letter. It could be the most important one that \n",
      "\n",
      "has ever landed in your Inbox.\n",
      "\n",
      "\n",
      "\n",
      "MULTI-LEVEL MARKETING IS A HUGE MISTAKE FOR MOST PEOPLE\n",
      "\n",
      "\n",
      "\n",
      "MLM has failed to deliver on its promises for the past 50 years. The pursuit \n",
      "\n",
      "of the \"MLM Dream\" has cost hundreds of thousands of people their friends, \n",
      "\n",
      "their fortunes and their sacred honor. The fact is that MLM is fatally \n",
      "\n",
      "flawed, meaning that it CANNOT work for most people.\n",
      "\n",
      "\n",
      "\n",
      "The companies and the few who earn the big money in MLM are NOT going to \n",
      "\n",
      "tell you the real story. FINALLY, there is someone who has the courage to \n",
      "\n",
      "cut through the hype and lies and tell the TRUTH about MLM.\n",
      "\n",
      "\n",
      "\n",
      "HERE'S GOOD NEWS\n",
      "\n",
      "\n",
      "\n",
      "There IS an alternative to MLM that WORKS, and works BIG! If you haven't yet \n",
      "\n",
      "abandoned your dreams, then you need to see this. Earning the kind of income \n",
      "\n",
      "you've dreamed about is easier than you think!\n",
      "\n",
      "\n",
      "\n",
      "With your permission, I'd like to send you a brief letter that will tell you \n",
      "\n",
      "WHY MLM doesn't work for most people and will then introduce you to \n",
      "\n",
      "something so new and refreshing that you'll wonder why you haven't heard of \n",
      "\n",
      "this before.\n",
      "\n",
      "\n",
      "\n",
      "I promise that there will be NO unwanted follow up, NO sales pitch, no one \n",
      "\n",
      "will call you, and your email address will only be used to send you the \n",
      "\n",
      "information. Period.\n",
      "\n",
      "\n",
      "\n",
      "To receive this free, life-changing information, simply click Reply, type \n",
      "\n",
      "\"Send Info\" in the Subject box and hit Send. I'll get the information to you \n",
      "\n",
      "within 24 hours. Just look for the words MLM WALL OF SHAME in your Inbox.\n",
      "\n",
      "\n",
      "\n",
      "Cordially,\n",
      "\n",
      "\n",
      "\n",
      "Siddhi\n",
      "\n",
      "\n",
      "\n",
      "P.S. Someone recently sent the letter to me and it has been the most \n",
      "\n",
      "eye-opening, financially beneficial information I have ever received. I \n",
      "\n",
      "honestly believe that you will feel the same way once you've read it. And \n",
      "\n",
      "it's FREE!\n",
      "\n",
      "\n",
      "\n",
      "\n",
      "\n",
      "------------------------------------------------------------\n",
      "\n",
      "This email is NEVER sent unsolicited.  THIS IS NOT \"SPAM\". You are receiving \n",
      "\n",
      "this email because you EXPLICITLY signed yourself up to our list with our \n",
      "\n",
      "online signup form or through use of our FFA Links Page and E-MailDOM \n",
      "\n",
      "systems, which have EXPLICIT terms of use which state that through its use \n",
      "\n",
      "you agree to receive our emailings.  You may also be a member of a Altra \n",
      "\n",
      "Computer Systems list or one of many numerous FREE Marketing Services and as \n",
      "\n",
      "such you agreed when you signed up for such list that you would also be \n",
      "\n",
      "receiving this emailing.\n",
      "\n",
      "Due to the above, this email message cannot be considered unsolicitated, or \n",
      "\n",
      "spam.\n",
      "\n",
      "-----------------------------------------------------------\n",
      "\n",
      "\n",
      "\n",
      "\n",
      "\n",
      "\n",
      "\n",
      "\n",
      "\n",
      "-- \n",
      "\n",
      "Irish Linux Users' Group: ilug@linux.ie\n",
      "\n",
      "http://www.linux.ie/mailman/listinfo/ilug for (un)subscription information.\n",
      "\n",
      "List maintainer: listmaster@linux.ie\n",
      "\n",
      "\n",
      "\n",
      "\n",
      "\n"
     ]
    }
   ],
   "source": [
    "stream = open(example_1, \"r\", encoding=\"latin-1\")\n",
    "\n",
    "isbody = False\n",
    "lines = []\n",
    "\n",
    "for line in stream:\n",
    "    if isbody:\n",
    "        lines.append(line)\n",
    "    elif line == \"\\n\":\n",
    "        isbody = True\n",
    "\n",
    "stream.close()\n",
    "\n",
    "email_body = \"\\n\".join(lines)\n",
    "print(email_body)\n"
   ]
  },
  {
   "attachments": {},
   "cell_type": "markdown",
   "metadata": {},
   "source": [
    "### Generator Function"
   ]
  },
  {
   "cell_type": "code",
   "execution_count": 124,
   "metadata": {},
   "outputs": [],
   "source": [
    "def generate_square(N):\n",
    "    for my_num in range(N):\n",
    "        yield  my_num**2"
   ]
  },
  {
   "cell_type": "code",
   "execution_count": 125,
   "metadata": {},
   "outputs": [
    {
     "name": "stdout",
     "output_type": "stream",
     "text": [
      "0 1 4 9 16 25 36 49 64 81 "
     ]
    }
   ],
   "source": [
    "for i in generate_square(10):\n",
    "    print(i,end=\" \")"
   ]
  },
  {
   "attachments": {},
   "cell_type": "markdown",
   "metadata": {},
   "source": [
    "### Enter body extraction\n"
   ]
  },
  {
   "cell_type": "code",
   "execution_count": 126,
   "metadata": {},
   "outputs": [],
   "source": [
    "def email_generator(path):\n",
    "    for root, dirnames, filenames in walk(path):\n",
    "        for file_name in filenames:\n",
    "            stream = open(join(root, file_name), encoding=\"latin-1\")\n",
    "\n",
    "            is_body = False\n",
    "            lines = []\n",
    "\n",
    "            for line in stream:\n",
    "                if is_body:\n",
    "                    lines.append(line)\n",
    "                elif line == \"\\n\":\n",
    "                    is_body = True\n",
    "                    \n",
    "            stream.close()\n",
    "\n",
    "            email_body = \"\\n\".join(lines)\n",
    "\n",
    "            yield file_name, email_body\n"
   ]
  },
  {
   "cell_type": "code",
   "execution_count": 127,
   "metadata": {},
   "outputs": [],
   "source": [
    "def df_from_directory(path, classification):\n",
    "    rows = []\n",
    "    row_names = []\n",
    "\n",
    "    for file_name ,email_body in email_generator(path):\n",
    "        rows.append({\"MESSAGE\": email_body, \"CATEGORY\": classification})\n",
    "        row_names.append(file_name)\n",
    "\n",
    "    return pd.DataFrame(rows, index=row_names)"
   ]
  },
  {
   "cell_type": "code",
   "execution_count": 128,
   "metadata": {},
   "outputs": [
    {
     "data": {
      "text/html": [
       "<div>\n",
       "<style scoped>\n",
       "    .dataframe tbody tr th:only-of-type {\n",
       "        vertical-align: middle;\n",
       "    }\n",
       "\n",
       "    .dataframe tbody tr th {\n",
       "        vertical-align: top;\n",
       "    }\n",
       "\n",
       "    .dataframe thead th {\n",
       "        text-align: right;\n",
       "    }\n",
       "</style>\n",
       "<table border=\"1\" class=\"dataframe\">\n",
       "  <thead>\n",
       "    <tr style=\"text-align: right;\">\n",
       "      <th></th>\n",
       "      <th>MESSAGE</th>\n",
       "      <th>CATEGORY</th>\n",
       "    </tr>\n",
       "  </thead>\n",
       "  <tbody>\n",
       "    <tr>\n",
       "      <th>00002.9438920e9a55591b18e60d1ed37d992b</th>\n",
       "      <td>&lt;html&gt;\\n\\n&lt;body&gt;\\n\\n&lt;center&gt;\\n\\n&lt;h3&gt;\\n\\n&lt;font ...</td>\n",
       "      <td>1</td>\n",
       "    </tr>\n",
       "    <tr>\n",
       "      <th>00003.590eff932f8704d8b0fcbe69d023b54d</th>\n",
       "      <td>&lt;html&gt;\\n\\n&lt;body&gt;\\n\\n&lt;center&gt;\\n\\n&lt;b&gt;\\n\\n&lt;font c...</td>\n",
       "      <td>1</td>\n",
       "    </tr>\n",
       "    <tr>\n",
       "      <th>00004.bdcc075fa4beb5157b5dd6cd41d8887b</th>\n",
       "      <td>&lt;html&gt;\\n\\n&lt;body&gt;\\n\\n&lt;center&gt;\\n\\n&lt;b&gt;\\n\\n&lt;font c...</td>\n",
       "      <td>1</td>\n",
       "    </tr>\n",
       "    <tr>\n",
       "      <th>00005.ed0aba4d386c5e62bc737cf3f0ed9589</th>\n",
       "      <td>&lt;html&gt;&lt;xbody&gt;\\n\\n&lt;hr width = \"100%\"&gt;\\n\\n&lt;cente...</td>\n",
       "      <td>1</td>\n",
       "    </tr>\n",
       "    <tr>\n",
       "      <th>00006.3ca1f399ccda5d897fecb8c57669a283</th>\n",
       "      <td>cpurf\\n\\n\\n\\n&lt;html&gt;\\n\\n\\n\\n&lt;head&gt;\\n\\n&lt;meta htt...</td>\n",
       "      <td>1</td>\n",
       "    </tr>\n",
       "  </tbody>\n",
       "</table>\n",
       "</div>"
      ],
      "text/plain": [
       "                                                                                  MESSAGE  \\\n",
       "00002.9438920e9a55591b18e60d1ed37d992b  <html>\\n\\n<body>\\n\\n<center>\\n\\n<h3>\\n\\n<font ...   \n",
       "00003.590eff932f8704d8b0fcbe69d023b54d  <html>\\n\\n<body>\\n\\n<center>\\n\\n<b>\\n\\n<font c...   \n",
       "00004.bdcc075fa4beb5157b5dd6cd41d8887b  <html>\\n\\n<body>\\n\\n<center>\\n\\n<b>\\n\\n<font c...   \n",
       "00005.ed0aba4d386c5e62bc737cf3f0ed9589  <html><xbody>\\n\\n<hr width = \"100%\">\\n\\n<cente...   \n",
       "00006.3ca1f399ccda5d897fecb8c57669a283  cpurf\\n\\n\\n\\n<html>\\n\\n\\n\\n<head>\\n\\n<meta htt...   \n",
       "\n",
       "                                        CATEGORY  \n",
       "00002.9438920e9a55591b18e60d1ed37d992b         1  \n",
       "00003.590eff932f8704d8b0fcbe69d023b54d         1  \n",
       "00004.bdcc075fa4beb5157b5dd6cd41d8887b         1  \n",
       "00005.ed0aba4d386c5e62bc737cf3f0ed9589         1  \n",
       "00006.3ca1f399ccda5d897fecb8c57669a283         1  "
      ]
     },
     "execution_count": 128,
     "metadata": {},
     "output_type": "execute_result"
    }
   ],
   "source": [
    "spam_emails = df_from_directory(spam_path, 1)\n",
    "spam_emails.head()"
   ]
  },
  {
   "cell_type": "code",
   "execution_count": 129,
   "metadata": {},
   "outputs": [
    {
     "data": {
      "text/plain": [
       "(1396, 2)"
      ]
     },
     "execution_count": 129,
     "metadata": {},
     "output_type": "execute_result"
    }
   ],
   "source": [
    "spam_emails.shape"
   ]
  },
  {
   "cell_type": "code",
   "execution_count": null,
   "metadata": {},
   "outputs": [],
   "source": []
  }
 ],
 "metadata": {
  "kernelspec": {
   "display_name": "mlcc",
   "language": "python",
   "name": "python3"
  },
  "language_info": {
   "codemirror_mode": {
    "name": "ipython",
    "version": 3
   },
   "file_extension": ".py",
   "mimetype": "text/x-python",
   "name": "python",
   "nbconvert_exporter": "python",
   "pygments_lexer": "ipython3",
   "version": "3.9.15"
  },
  "orig_nbformat": 4,
  "vscode": {
   "interpreter": {
    "hash": "f6c73129ccda2f5e3d9979d5c3db00dc5c5e8a358dbd3c69d29523b597742988"
   }
  }
 },
 "nbformat": 4,
 "nbformat_minor": 2
}
